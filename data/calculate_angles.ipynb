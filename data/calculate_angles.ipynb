{
 "cells": [
  {
   "cell_type": "code",
   "execution_count": 1,
   "metadata": {},
   "outputs": [],
   "source": [
    "import pandas as pd\n",
    "import numpy as np\n",
    "import json\n",
    "from scipy.spatial.transform import Rotation as R"
   ]
  },
  {
   "cell_type": "code",
   "execution_count": 2,
   "metadata": {},
   "outputs": [],
   "source": [
    "input_curves = pd.read_table('curves.json',header=None).iloc[0,0]"
   ]
  },
  {
   "cell_type": "code",
   "execution_count": 3,
   "metadata": {},
   "outputs": [],
   "source": [
    "jdata = json.loads(input_curves)"
   ]
  },
  {
   "cell_type": "code",
   "execution_count": 4,
   "metadata": {},
   "outputs": [
    {
     "data": {
      "text/plain": [
       "236"
      ]
     },
     "execution_count": 4,
     "metadata": {},
     "output_type": "execute_result"
    }
   ],
   "source": [
    "len(jdata)"
   ]
  },
  {
   "cell_type": "code",
   "execution_count": 5,
   "metadata": {},
   "outputs": [],
   "source": [
    "list_camera = list()\n",
    "flag_update = False\n",
    "for i in range(len(jdata)):\n",
    "    x_i = jdata[i]\n",
    "    dict_camera_i = x_i.copy()\n",
    "    \n",
    "    if(0<i<(len(jdata)-1)):\n",
    "        x_i_prev = jdata[i-1]\n",
    "        x_i_next = jdata[i+1]\n",
    "        if(x_i_prev['branch_id'] == x_i['branch_id'] == x_i_next['branch_id']):\n",
    "            vec_fw = np.array([x_i_next['x'] - x_i['x'],x_i_next['y'] - x_i['y'],x_i_next['z'] - x_i['z']])\n",
    "            mag_fw = np.linalg.norm(vec_fw)\n",
    "            dict_camera_i['rotation_fw'] = [np.arccos(vec_fw[0]/mag_fw)*180/np.pi,\n",
    "                                            np.arccos(vec_fw[1]/mag_fw)*180/np.pi,\n",
    "                                            np.arccos(vec_fw[2]/mag_fw)*180/np.pi]\n",
    "\n",
    "            vec_bw = np.array([x_i_prev['x'] - x_i['x'],x_i_prev['y'] - x_i['y'],x_i_prev['z'] - x_i['z']])\n",
    "            mag_bw = np.linalg.norm(vec_bw)\n",
    "            dict_camera_i['rotation_bw'] = [np.arccos(vec_bw[0]/mag_bw)*180/np.pi,\n",
    "                                            np.arccos(vec_bw[1]/mag_bw)*180/np.pi,\n",
    "                                            np.arccos(vec_bw[2]/mag_bw)*180/np.pi]\n",
    "            if(flag_update):\n",
    "                list_camera[i-1]['rotation_bw'] = dict_camera_i['rotation_bw']\n",
    "                flag_update = False\n",
    "        elif(x_i_prev['branch_id'] != x_i['branch_id']):\n",
    "            vec_fw = np.array([x_i_next['x'] - x_i['x'],x_i_next['y'] - x_i['y'],x_i_next['z'] - x_i['z']])\n",
    "            mag_fw = np.linalg.norm(vec_fw)\n",
    "            dict_camera_i['rotation_fw'] = [np.arccos(vec_fw[0]/mag_fw)*180/np.pi,\n",
    "                                            np.arccos(vec_fw[1]/mag_fw)*180/np.pi,\n",
    "                                            np.arccos(vec_fw[2]/mag_fw)*180/np.pi]\n",
    "            flag_update = True\n",
    "            \n",
    "        elif(x_i_next['branch_id'] != x_i['branch_id']):\n",
    "            vec_bw = np.array([x_i_prev['x'] - x_i['x'],x_i_prev['y'] - x_i['y'],x_i_prev['z'] - x_i['z']])\n",
    "            mag_bw = np.linalg.norm(vec_bw)\n",
    "            dict_camera_i['rotation_bw'] = [np.arccos(vec_bw[0]/mag_bw)*180/np.pi,\n",
    "                                            np.arccos(vec_bw[1]/mag_bw)*180/np.pi,\n",
    "                                            np.arccos(vec_bw[2]/mag_bw)*180/np.pi]  \n",
    "            dict_camera_i['rotation_fw'] = list_camera[i-1]['rotation_fw']\n",
    "    if(i==0):\n",
    "        x_i_next = jdata[i+1]\n",
    "        vec_fw = np.array([x_i_next['x'] - x_i['x'],x_i_next['y'] - x_i['y'],x_i_next['z'] - x_i['z']])\n",
    "        mag_fw = np.linalg.norm(vec_fw)\n",
    "        dict_camera_i['rotation_fw'] = [np.arccos(vec_fw[0]/mag_fw)*180/np.pi,\n",
    "                                        np.arccos(vec_fw[1]/mag_fw)*180/np.pi,\n",
    "                                        np.arccos(vec_fw[2]/mag_fw)*180/np.pi]\n",
    "        flag_update = True\n",
    "    if(i==len(jdata)-1):\n",
    "        x_i_prev = jdata[i-1]\n",
    "        vec_bw = np.array([x_i_prev['x'] - x_i['x'],x_i_prev['y'] - x_i['y'],x_i_prev['z'] - x_i['z']])\n",
    "        mag_bw = np.linalg.norm(vec_bw)\n",
    "        dict_camera_i['rotation_bw'] = [np.arccos(vec_bw[0]/mag_bw)*180/np.pi,\n",
    "                                        np.arccos(vec_bw[1]/mag_bw)*180/np.pi,\n",
    "                                        np.arccos(vec_bw[2]/mag_bw)*180/np.pi]  \n",
    "        dict_camera_i['rotation_fw'] = list_camera[i-1]['rotation_fw']    \n",
    "    list_camera.append(dict_camera_i)"
   ]
  },
  {
   "cell_type": "code",
   "execution_count": 6,
   "metadata": {},
   "outputs": [
    {
     "data": {
      "text/plain": [
       "[{'branch_id': 'S3_S5',\n",
       "  'pseudotime': 0.0,\n",
       "  'x': -0.06593725135199813,\n",
       "  'y': -0.022338808438985724,\n",
       "  'z': -0.046025399083270205,\n",
       "  'rotation_fw': [66.03768407500867, 73.27744505825859, 29.85019394126952],\n",
       "  'rotation_bw': [113.96231592499134, 106.72255494174142, 150.1498060587305]},\n",
       " {'branch_id': 'S3_S5',\n",
       "  'pseudotime': 0.0019271269610602309,\n",
       "  'x': -0.06515457628296169,\n",
       "  'y': -0.021784301644704976,\n",
       "  'z': -0.04435394454441773,\n",
       "  'rotation_fw': [66.03768407500867, 73.27744505825859, 29.85019394126952],\n",
       "  'rotation_bw': [113.96231592499134, 106.72255494174142, 150.1498060587305]},\n",
       " {'branch_id': 'S3_S5',\n",
       "  'pseudotime': 0.0038542539221204618,\n",
       "  'x': -0.06437190121392525,\n",
       "  'y': -0.021229794850424227,\n",
       "  'z': -0.04268249000556526,\n",
       "  'rotation_fw': [66.03768407500867, 73.27744505825859, 29.85019394126952],\n",
       "  'rotation_bw': [113.96231592499134, 106.72255494174142, 150.1498060587305]},\n",
       " {'branch_id': 'S3_S5',\n",
       "  'pseudotime': 0.005781380883180693,\n",
       "  'x': -0.06358922614488881,\n",
       "  'y': -0.02067528805614348,\n",
       "  'z': -0.04101103546671279,\n",
       "  'rotation_fw': [66.03768407500829, 73.27744505825864, 29.850193941269815],\n",
       "  'rotation_bw': [113.96231592499134, 106.72255494174142, 150.1498060587305]},\n",
       " {'branch_id': 'S3_S5',\n",
       "  'pseudotime': 0.0077085078442409236,\n",
       "  'x': -0.06280655107585235,\n",
       "  'y': -0.02012078126186273,\n",
       "  'z': -0.039339580927860315,\n",
       "  'rotation_fw': [66.03768407500867, 73.27744505825859, 29.85019394126952],\n",
       "  'rotation_bw': [113.96231592499171, 106.72255494174136, 150.14980605873018]},\n",
       " {'branch_id': 'S3_S5',\n",
       "  'pseudotime': 0.009635634805301154,\n",
       "  'x': -0.062023876006815915,\n",
       "  'y': -0.01956627446758198,\n",
       "  'z': -0.03766812638900784,\n",
       "  'rotation_fw': [66.03768407500867, 73.27744505825859, 29.85019394126952],\n",
       "  'rotation_bw': [113.96231592499134, 106.72255494174142, 150.1498060587305]},\n",
       " {'branch_id': 'S3_S5',\n",
       "  'pseudotime': 0.011562761766361385,\n",
       "  'x': -0.061241200937779475,\n",
       "  'y': -0.019011767673301233,\n",
       "  'z': -0.03599667185015537,\n",
       "  'rotation_fw': [66.03768407500867, 73.27744505825859, 29.85019394126952],\n",
       "  'rotation_bw': [113.96231592499134, 106.72255494174142, 150.1498060587305]},\n",
       " {'branch_id': 'S3_S5',\n",
       "  'pseudotime': 0.013489888727421616,\n",
       "  'x': -0.060458525868743035,\n",
       "  'y': -0.018457260879020485,\n",
       "  'z': -0.0343252173113029,\n",
       "  'rotation_fw': [65.73523892308056, 73.18343357618342, 30.170559999934422],\n",
       "  'rotation_bw': [113.96231592499134, 106.72255494174142, 150.1498060587305]},\n",
       " {'branch_id': 'S3_S5',\n",
       "  'pseudotime': 0.015417015688481847,\n",
       "  'x': -0.05966658371520672,\n",
       "  'y': -0.017899739089344033,\n",
       "  'z': -0.03265918975933594,\n",
       "  'rotation_fw': [65.15515857132415, 73.01967860822774, 30.776403354985405],\n",
       "  'rotation_bw': [114.26476107691944, 106.81656642381657, 149.82944000006557]},\n",
       " {'branch_id': 'S3_S5',\n",
       "  'pseudotime': 0.01734414264954208,\n",
       "  'x': -0.05885688089265005,\n",
       "  'y': -0.017336937111457215,\n",
       "  'z': -0.031003465853996423,\n",
       "  'rotation_fw': [65.01095638732423, 72.98814517309063, 30.921583946250255],\n",
       "  'rotation_bw': [114.84484142867586, 106.98032139177226, 149.2235966450146]}]"
      ]
     },
     "execution_count": 6,
     "metadata": {},
     "output_type": "execute_result"
    }
   ],
   "source": [
    "list_camera[:10]"
   ]
  },
  {
   "cell_type": "code",
   "execution_count": 7,
   "metadata": {},
   "outputs": [],
   "source": [
    "with open('curves_with_angles.json', 'w') as f:\n",
    "    json.dump(list_camera, f)"
   ]
  },
  {
   "cell_type": "code",
   "execution_count": null,
   "metadata": {},
   "outputs": [],
   "source": []
  }
 ],
 "metadata": {
  "kernelspec": {
   "display_name": "Python [conda env:STREAM]",
   "language": "python",
   "name": "conda-env-STREAM-py"
  },
  "language_info": {
   "codemirror_mode": {
    "name": "ipython",
    "version": 3
   },
   "file_extension": ".py",
   "mimetype": "text/x-python",
   "name": "python",
   "nbconvert_exporter": "python",
   "pygments_lexer": "ipython3",
   "version": "3.6.7"
  }
 },
 "nbformat": 4,
 "nbformat_minor": 2
}
