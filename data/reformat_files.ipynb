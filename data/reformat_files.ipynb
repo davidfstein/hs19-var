{
 "cells": [
  {
   "cell_type": "code",
   "execution_count": 1,
   "metadata": {},
   "outputs": [],
   "source": [
    "import pandas as pd\n",
    "import numpy as np\n",
    "import os\n",
    "import json"
   ]
  },
  {
   "cell_type": "code",
   "execution_count": 2,
   "metadata": {},
   "outputs": [],
   "source": [
    "files_coord_curves = [x for x in os.listdir('./') if x.startswith('coord_curve')]"
   ]
  },
  {
   "cell_type": "code",
   "execution_count": 3,
   "metadata": {
    "scrolled": false
   },
   "outputs": [
    {
     "data": {
      "text/plain": [
       "['coord_curve_S3_S5.csv',\n",
       " 'coord_curve_S3_S4.csv',\n",
       " 'coord_curve_S0_S1.csv',\n",
       " 'coord_curve_S0_S2.csv',\n",
       " 'coord_curve_S0_S3.csv']"
      ]
     },
     "execution_count": 3,
     "metadata": {},
     "output_type": "execute_result"
    }
   ],
   "source": [
    "files_coord_curves"
   ]
  },
  {
   "cell_type": "code",
   "execution_count": 4,
   "metadata": {},
   "outputs": [],
   "source": [
    "dict_df = dict() #dictionary for dataframes of branches\n",
    "dict_len = dict() #dictionary for lengths of branches\n",
    "dict_pseudotime=dict()\n",
    "for x in files_coord_curves:\n",
    "    len_x = 0\n",
    "    list_len_x = [0]\n",
    "    df_file_x = pd.read_csv(x,sep='\\t')\n",
    "    for i in range(df_file_x.shape[0]-1):\n",
    "        len_x += np.linalg.norm(df_file_x.iloc[i+1,]-df_file_x.iloc[i,])\n",
    "        list_len_x.append(len_x)\n",
    "    dict_len[x[-9:-4]] = len_x\n",
    "    dict_df[x[-9:-4]] = df_file_x\n",
    "    dict_pseudotime[x[-9:-4]] = list_len_x"
   ]
  },
  {
   "cell_type": "code",
   "execution_count": 5,
   "metadata": {},
   "outputs": [
    {
     "data": {
      "text/plain": [
       "{'S3_S5': 0.1927126961060231,\n",
       " 'S3_S4': 0.04802614380489234,\n",
       " 'S0_S1': 0.1283525141658179,\n",
       " 'S0_S2': 0.05332331986937152,\n",
       " 'S0_S3': 0.021015061188881107}"
      ]
     },
     "execution_count": 5,
     "metadata": {},
     "output_type": "execute_result"
    }
   ],
   "source": [
    "dict_len"
   ]
  },
  {
   "cell_type": "code",
   "execution_count": 6,
   "metadata": {},
   "outputs": [],
   "source": [
    "len_max = max(dict_len.values())"
   ]
  },
  {
   "cell_type": "code",
   "execution_count": 7,
   "metadata": {},
   "outputs": [],
   "source": [
    "step = len_max/100"
   ]
  },
  {
   "cell_type": "code",
   "execution_count": 8,
   "metadata": {},
   "outputs": [],
   "source": [
    "list_curves = []\n",
    "for x in dict_df.keys():\n",
    "    df_file_x = dict_df[x]\n",
    "    \n",
    "    pseudotime_new = np.arange(dict_pseudotime[x][0],dict_pseudotime[x][-1],step)\n",
    "    c1 = np.interp(pseudotime_new,dict_pseudotime[x],df_file_x['0'])\n",
    "    c2 = np.interp(pseudotime_new, dict_pseudotime[x],df_file_x['1'])  \n",
    "    c3 = np.interp(pseudotime_new, dict_pseudotime[x],df_file_x['2'])\n",
    "        \n",
    "    if(pseudotime_new[-1]<dict_len[x]):\n",
    "        c1 = np.append(c1,df_file_x['0'].iloc[-1])\n",
    "        c2 = np.append(c2,df_file_x['1'].iloc[-1])  \n",
    "        c3 = np.append(c3,df_file_x['2'].iloc[-1])  \n",
    "        pseudotime_new = np.append(pseudotime_new,dict_len[x])  \n",
    "\n",
    "    for i in range(c1.shape[0]):\n",
    "        dict_coord_curves = dict()\n",
    "        dict_coord_curves['branch_id'] = x\n",
    "        dict_coord_curves['pseudotime'] = pseudotime_new[i]\n",
    "        dict_coord_curves['x'] = c1[i]\n",
    "        dict_coord_curves['y'] = c2[i]\n",
    "        dict_coord_curves['z'] = c3[i]\n",
    "        list_curves.append(dict_coord_curves)"
   ]
  },
  {
   "cell_type": "code",
   "execution_count": null,
   "metadata": {},
   "outputs": [],
   "source": []
  },
  {
   "cell_type": "code",
   "execution_count": 9,
   "metadata": {},
   "outputs": [],
   "source": [
    "with open('curves.json', 'w') as f:\n",
    "    json.dump(list_curves, f)"
   ]
  },
  {
   "cell_type": "code",
   "execution_count": null,
   "metadata": {},
   "outputs": [],
   "source": []
  },
  {
   "cell_type": "code",
   "execution_count": null,
   "metadata": {},
   "outputs": [],
   "source": []
  }
 ],
 "metadata": {
  "kernelspec": {
   "display_name": "Python [conda env:STREAM]",
   "language": "python",
   "name": "conda-env-STREAM-py"
  },
  "language_info": {
   "codemirror_mode": {
    "name": "ipython",
    "version": 3
   },
   "file_extension": ".py",
   "mimetype": "text/x-python",
   "name": "python",
   "nbconvert_exporter": "python",
   "pygments_lexer": "ipython3",
   "version": "3.6.7"
  }
 },
 "nbformat": 4,
 "nbformat_minor": 2
}
