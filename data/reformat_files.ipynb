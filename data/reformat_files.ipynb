{
 "cells": [
  {
   "cell_type": "code",
   "execution_count": 1,
   "metadata": {},
   "outputs": [],
   "source": [
    "import pandas as pd\n",
    "import numpy as np\n",
    "import os\n",
    "import json"
   ]
  },
  {
   "cell_type": "code",
   "execution_count": 2,
   "metadata": {},
   "outputs": [],
   "source": [
    "files_coord_curves = [x for x in os.listdir('./') if x.startswith('coord_curve')]"
   ]
  },
  {
   "cell_type": "code",
   "execution_count": 3,
   "metadata": {
    "scrolled": false
   },
   "outputs": [
    {
     "data": {
      "text/plain": [
       "['coord_curve_S3_S5.csv',\n",
       " 'coord_curve_S3_S4.csv',\n",
       " 'coord_curve_S0_S1.csv',\n",
       " 'coord_curve_S0_S2.csv',\n",
       " 'coord_curve_S0_S3.csv']"
      ]
     },
     "execution_count": 3,
     "metadata": {},
     "output_type": "execute_result"
    }
   ],
   "source": [
    "files_coord_curves"
   ]
  },
  {
   "cell_type": "code",
   "execution_count": null,
   "metadata": {},
   "outputs": [],
   "source": []
  },
  {
   "cell_type": "code",
   "execution_count": 4,
   "metadata": {},
   "outputs": [],
   "source": [
    "num = 10\n",
    "list_curves = []\n",
    "for x in files_coord_curves:\n",
    "    df_file_x = pd.read_csv(x,sep='\\t')\n",
    "    pseudo_count=0\n",
    "    for i in range(df_file_x.shape[0]-1):        \n",
    "        c1 = np.linspace(df_file_x.iloc[i,0], df_file_x.iloc[i+1,0], num)\n",
    "        c2 = np.linspace(df_file_x.iloc[i,1], df_file_x.iloc[i+1,1], num)\n",
    "        c3 = np.linspace(df_file_x.iloc[i,2], df_file_x.iloc[i+1,2], num)\n",
    "        ### avoid repeated coordinates of nodes\n",
    "        if(i<(df_file_x.shape[0]-2)):\n",
    "            c1 = c1[:-1]\n",
    "            c2 = c2[:-1]\n",
    "            c3 = c3[:-1]\n",
    "        for j in range(c1.shape[0]):\n",
    "            dict_coord_curves = dict()\n",
    "            dict_coord_curves['branch_id'] = x[-9:-4]\n",
    "            dict_coord_curves['pseudotime'] = pseudo_count\n",
    "            pseudo_count +=1\n",
    "            dict_coord_curves['x'] = c1[j]\n",
    "            dict_coord_curves['y'] = c2[j]\n",
    "            dict_coord_curves['z'] = c3[j]\n",
    "            list_curves.append(dict_coord_curves)"
   ]
  },
  {
   "cell_type": "code",
   "execution_count": 5,
   "metadata": {},
   "outputs": [],
   "source": [
    "with open('curves.json', 'w') as f:\n",
    "    json.dump(list_curves, f)"
   ]
  },
  {
   "cell_type": "code",
   "execution_count": null,
   "metadata": {},
   "outputs": [],
   "source": []
  }
 ],
 "metadata": {
  "kernelspec": {
   "display_name": "Python [conda env:STREAM]",
   "language": "python",
   "name": "conda-env-STREAM-py"
  },
  "language_info": {
   "codemirror_mode": {
    "name": "ipython",
    "version": 3
   },
   "file_extension": ".py",
   "mimetype": "text/x-python",
   "name": "python",
   "nbconvert_exporter": "python",
   "pygments_lexer": "ipython3",
   "version": "3.6.7"
  }
 },
 "nbformat": 4,
 "nbformat_minor": 2
}
